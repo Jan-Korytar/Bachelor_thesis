{
 "cells": [
  {
   "cell_type": "code",
   "id": "initial_id",
   "metadata": {
    "collapsed": true,
    "jupyter": {
     "outputs_hidden": true
    },
    "ExecuteTime": {
     "end_time": "2024-11-16T17:16:24.608461Z",
     "start_time": "2024-11-16T17:16:18.298633Z"
    }
   },
   "source": [
    "import numpy as np\n",
    "from importlib import reload\n",
    "from glob import glob\n",
    "import os\n",
    "import torchvision\n",
    "from torch.utils.data import DataLoader\n",
    "from tqdm.notebook import tqdm\n",
    "from utilities.utils import get_preprocessed_images_paths\n",
    "from utilities.datasets import SegDatasetFromTensors, BasicDataset\n",
    "\n",
    "%load_ext autoreload\n",
    "%autoreload 2\n"
   ],
   "outputs": [],
   "execution_count": 1
  },
  {
   "cell_type": "code",
   "id": "1881734f1c6f7f78",
   "metadata": {
    "ExecuteTime": {
     "end_time": "2024-11-16T17:16:34.157678Z",
     "start_time": "2024-11-16T17:16:30.096606Z"
    }
   },
   "source": [
    "paths = get_preprocessed_images_paths(128, file_extension_img='.pt', file_extension_mask='.pt', refresh_search=True)\n",
    "\n",
    "# Extracting all the paths into individual variables\n",
    "train_images = paths['train_images']\n",
    "train_masks = paths['train_masks']\n",
    "train_images_cropped = paths['train_images_cropped']\n",
    "train_masks_cropped = paths['train_masks_cropped']\n",
    "val_images = paths['val_images']\n",
    "val_masks = paths['val_masks']\n",
    "val_images_cropped = paths['val_images_cropped']\n",
    "val_masks_cropped = paths['val_masks_cropped']\n",
    "test_images = paths['test_images']\n",
    "test_masks = paths['test_masks']\n",
    "train_images_resized = paths['train_images_resized']\n",
    "train_masks_resized = paths['train_masks_resized']\n",
    "\n",
    "\n",
    "# Load the training dataset with uncropped images\n",
    "train_dataset = SegDatasetFromTensors(input_img=train_images, masks=train_masks, normalize_images=False, is_training=True)\n",
    "train_loader = DataLoader(train_dataset, batch_size=1, shuffle=False)\n",
    "\n",
    "# Load the training dataset with resized images\n",
    "train_resized_dataset = SegDatasetFromTensors(input_img=train_images_resized, masks=train_masks_resized, normalize_images=False)\n",
    "train_resized_loader = DataLoader(train_resized_dataset, batch_size=1, shuffle=False)\n",
    "\n",
    "# Load the training dataset with cropped images\n",
    "train_cropped_dataset = SegDatasetFromTensors(input_img=train_images_cropped, masks=train_masks_cropped, normalize_images=False, is_training=True)\n",
    "train_cropped_loader = DataLoader(train_cropped_dataset, batch_size=1, shuffle=False)\n",
    "\n",
    "# Load the validation dataset\n",
    "val_dataset = SegDatasetFromTensors(input_img=val_images, masks=val_masks, normalize_images=False)\n",
    "val_loader = DataLoader(val_dataset, batch_size=1, shuffle=False)\n",
    "\n",
    "val_cropped_dataset = SegDatasetFromTensors(input_img=val_images_cropped, masks=val_masks_cropped, normalize_images=False)\n",
    "val_cropped_loader = DataLoader(val_cropped_dataset, batch_size=1, shuffle=False)\n",
    "\n",
    "# Load the test dataset\n",
    "test_dataset = SegDatasetFromTensors(input_img=test_images, masks=test_masks, normalize_images=False)\n",
    "test_loader = DataLoader(test_dataset, batch_size=2, shuffle=False)\n",
    "\n",
    "crop_images = sorted(glob(os.path.join('cropped/*png')), key=lambda x: os.path.basename(x))\n",
    "\n",
    "test_cropped = BasicDataset(crop_images)\n",
    "test_cropped_loader = DataLoader(test_cropped, batch_size=1, shuffle=False)\n"
   ],
   "outputs": [],
   "execution_count": 2
  },
  {
   "cell_type": "code",
   "id": "a35501663acb5f24",
   "metadata": {
    "ExecuteTime": {
     "end_time": "2024-11-16T17:16:34.436387Z",
     "start_time": "2024-11-16T17:16:34.163687Z"
    }
   },
   "source": [
    "\n",
    "\n",
    "def compute_mean_std(loader, loader_name):\n",
    "    # Initialize counters and sums\n",
    "    total_pixels = 0\n",
    "    sum_r, sum_g, sum_b = 0.0, 0.0, 0.0\n",
    "    sum_sq_r, sum_sq_g, sum_sq_b = 0.0, 0.0, 0.0\n",
    "    \n",
    "    # Loop over the DataLoader\n",
    "    for images, _ in tqdm(loader, total=len(loader)):\n",
    "        \n",
    "        # Iterate over batch\n",
    "        for img in images:\n",
    "            img = img.cpu().numpy()\n",
    "            \n",
    "            \n",
    "            # Mask zero values by checking all channels\n",
    "            mask = (img[0] != 0) | (img[1] != 0) | (img[2] != 0)\n",
    "            \n",
    "            # Get non-zero values for each channel\n",
    "            r_values = img[0][mask]\n",
    "            g_values = img[1][mask]\n",
    "            b_values = img[2][mask]\n",
    "            \n",
    "            # Update sums and sums of squares for each channel\n",
    "            total_pixels += r_values.size  # Count number of valid pixels\n",
    "            sum_r += np.sum(r_values)\n",
    "            sum_g += np.sum(g_values)\n",
    "            sum_b += np.sum(b_values)\n",
    "            \n",
    "            sum_sq_r += np.sum(r_values ** 2)\n",
    "            sum_sq_g += np.sum(g_values ** 2)\n",
    "            sum_sq_b += np.sum(b_values ** 2)\n",
    "    \n",
    "    # Compute means for each channel\n",
    "    mean_r = sum_r / total_pixels\n",
    "    mean_g = sum_g / total_pixels\n",
    "    mean_b = sum_b / total_pixels\n",
    "    \n",
    "    # Compute standard deviations for each channel\n",
    "    std_r = np.sqrt((sum_sq_r / total_pixels) - (mean_r ** 2))\n",
    "    std_g = np.sqrt((sum_sq_g / total_pixels) - (mean_g ** 2))\n",
    "    std_b = np.sqrt((sum_sq_b / total_pixels) - (mean_b ** 2))\n",
    "    \n",
    "    # Print results\n",
    "    print(f\"{loader_name} Mean (R, G, B): {mean_r}, {mean_g}, {mean_b}\")\n",
    "    print(f\"{loader_name} Std (R, G, B): {std_r}, {std_g}, {std_b}\")\n",
    "    \n",
    "\n"
   ],
   "outputs": [],
   "execution_count": 3
  },
  {
   "cell_type": "code",
   "id": "2f2d16f10a1d46fd",
   "metadata": {
    "ExecuteTime": {
     "end_time": "2024-11-16T17:18:42.256913Z",
     "start_time": "2024-11-16T17:16:34.659148Z"
    }
   },
   "source": [
    "compute_mean_std(train_loader, \"Train Loader\")\n",
    "compute_mean_std(train_cropped_loader, 'cropped')\n",
    "compute_mean_std(val_loader, 'validation')\n",
    "compute_mean_std(val_cropped_loader, 'validation_cropped')\n",
    "#compute_mean_std(test_loader, 'Test Loader')\n",
    "#compute_mean_std(test_cropped_loader, 'cropped_test')\n"
   ],
   "outputs": [
    {
     "data": {
      "text/plain": [
       "  0%|          | 0/4000 [00:00<?, ?it/s]"
      ],
      "application/vnd.jupyter.widget-view+json": {
       "version_major": 2,
       "version_minor": 0,
       "model_id": "912c5c381ff94f43aae6feb6161717c1"
      }
     },
     "metadata": {},
     "output_type": "display_data"
    },
    {
     "name": "stdout",
     "output_type": "stream",
     "text": [
      "Train Loader Mean (R, G, B): 0.32975525795939176, 0.19380269262000854, 0.09536543735334127\n",
      "Train Loader Std (R, G, B): 0.15924140217604812, 0.09941648653382394, 0.055644066488547195\n"
     ]
    },
    {
     "data": {
      "text/plain": [
       "  0%|          | 0/4000 [00:00<?, ?it/s]"
      ],
      "application/vnd.jupyter.widget-view+json": {
       "version_major": 2,
       "version_minor": 0,
       "model_id": "332cc82bbebf47bab8d4ddd762965617"
      }
     },
     "metadata": {},
     "output_type": "display_data"
    },
    {
     "name": "stdout",
     "output_type": "stream",
     "text": [
      "cropped Mean (R, G, B): 0.5966441725144175, 0.3379078947970837, 0.16812422227171137\n",
      "cropped Std (R, G, B): 0.23238039928303286, 0.1880428751274462, 0.10398509273908875\n"
     ]
    },
    {
     "data": {
      "text/plain": [
       "  0%|          | 0/400 [00:00<?, ?it/s]"
      ],
      "application/vnd.jupyter.widget-view+json": {
       "version_major": 2,
       "version_minor": 0,
       "model_id": "aff6a46341d84a3489d57535769f9c90"
      }
     },
     "metadata": {},
     "output_type": "display_data"
    },
    {
     "name": "stdout",
     "output_type": "stream",
     "text": [
      "validation Mean (R, G, B): 0.5507591776382487, 0.36368202300487135, 0.28958523739594133\n",
      "validation Std (R, G, B): 0.17806627200735062, 0.14194286672976278, 0.10991587430013793\n"
     ]
    },
    {
     "data": {
      "text/plain": [
       "  0%|          | 0/400 [00:00<?, ?it/s]"
      ],
      "application/vnd.jupyter.widget-view+json": {
       "version_major": 2,
       "version_minor": 0,
       "model_id": "bec586c50f9d464a9ba7be38130a209d"
      }
     },
     "metadata": {},
     "output_type": "display_data"
    },
    {
     "name": "stdout",
     "output_type": "stream",
     "text": [
      "validation_cropped Mean (R, G, B): 0.7747499612220803, 0.555246008680849, 0.4268781335953457\n",
      "validation_cropped Std (R, G, B): 0.15772318335876612, 0.16953635063353217, 0.14195184914719983\n"
     ]
    }
   ],
   "execution_count": 4
  },
  {
   "cell_type": "code",
   "id": "123866bc210b209c",
   "metadata": {
    "ExecuteTime": {
     "end_time": "2024-11-16T17:22:48.937399Z",
     "start_time": "2024-11-16T17:22:47.951577Z"
    }
   },
   "source": [
    "# Load the training dataset with uncropped images\n",
    "train_dataset = SegDatasetFromTensors(input_img=train_images, masks=train_masks, ratio=1 ,normalize_images=True, is_training=True)\n",
    "train_loader = DataLoader(train_dataset, batch_size=1, shuffle=False)\n",
    "\n",
    "# Load the training dataset with resized images\n",
    "train_resized_dataset = SegDatasetFromTensors(input_img=train_images_resized, masks=train_masks_resized, normalize_images=False)\n",
    "train_resized_loader = DataLoader(train_resized_dataset, batch_size=1, shuffle=False)\n",
    "\n",
    "# Load the training dataset with cropped images\n",
    "train_cropped_dataset = SegDatasetFromTensors(input_img=None, masks=None, \n",
    "                                              cropped_input=train_images_cropped, cropped_masks=train_masks_cropped,\n",
    "                                              ratio=0, normalize_images=True, is_training=True)\n",
    "train_cropped_loader = DataLoader(train_cropped_dataset, batch_size=1, shuffle=False)\n",
    "\n",
    "# Load the validation dataset\n",
    "val_dataset = SegDatasetFromTensors(input_img=val_images, masks=val_masks, normalize_images=True, is_training=False)\n",
    "val_loader = DataLoader(val_dataset, batch_size=1, shuffle=False)\n",
    "\n",
    "\n",
    "val_cropped_dataset = SegDatasetFromTensors(input_img=val_images_cropped, masks=val_masks_cropped, cropped_input=val_images_cropped, cropped_masks=val_masks_cropped , ratio=0, normalize_images=True, is_training=False)\n",
    "val_cropped_loader = DataLoader(val_cropped_dataset, batch_size=1, shuffle=False)\n",
    "# Load the test dataset\n",
    "test_dataset = SegDatasetFromTensors(input_img=test_images, masks=test_masks, normalize_images=True, is_training=False)\n",
    "test_loader = DataLoader(test_dataset, batch_size=1, shuffle=False)\n",
    "\n",
    "crop_images = sorted(glob(os.path.join('cropped/*png')), key=lambda x: os.path.basename(x))\n",
    "\n",
    "test_cropped = BasicDataset(crop_images)\n",
    "test_cropped_loader = DataLoader(test_cropped, batch_size=1, shuffle=False)"
   ],
   "outputs": [],
   "execution_count": 7
  },
  {
   "cell_type": "code",
   "id": "c4c74925ea2bfacf",
   "metadata": {
    "ExecuteTime": {
     "end_time": "2024-11-16T17:23:14.124087Z",
     "start_time": "2024-11-16T17:22:50.361052Z"
    }
   },
   "source": [
    "\n",
    "# Example usage:\n",
    "#compute_mean_std(train_loader, \"Train Loader\")\n",
    "#compute_mean_std(train_cropped_loader, 'cropped')\n",
    "#compute_mean_std(val_loader, 'validation')\n",
    "compute_mean_std(val_cropped_loader, 'validation_cropped')\n"
   ],
   "outputs": [
    {
     "data": {
      "text/plain": [
       "  0%|          | 0/4000 [00:00<?, ?it/s]"
      ],
      "application/vnd.jupyter.widget-view+json": {
       "version_major": 2,
       "version_minor": 0,
       "model_id": "d73804b3f78c41d6b7de74b428471c4b"
      }
     },
     "metadata": {},
     "output_type": "display_data"
    },
    {
     "name": "stdout",
     "output_type": "stream",
     "text": [
      "Train Loader Mean (R, G, B): -0.055291307811253555, -0.049953110508477866, -0.05565495431107074\n",
      "Train Loader Std (R, G, B): 0.9978411828740444, 0.9888898740391605, 1.0063736633499167\n"
     ]
    },
    {
     "data": {
      "text/plain": [
       "  0%|          | 0/4000 [00:00<?, ?it/s]"
      ],
      "application/vnd.jupyter.widget-view+json": {
       "version_major": 2,
       "version_minor": 0,
       "model_id": "cba21d56185e4380bba3676c1357fc6a"
      }
     },
     "metadata": {},
     "output_type": "display_data"
    },
    {
     "name": "stdout",
     "output_type": "stream",
     "text": [
      "cropped Mean (R, G, B): 3.221064142374239e-08, 5.566719258606829e-08, -1.3226395086711867e-07\n",
      "cropped Std (R, G, B): 0.9999999732829887, 1.0000000057160512, 1.0000000870541066\n"
     ]
    },
    {
     "data": {
      "text/plain": [
       "  0%|          | 0/400 [00:00<?, ?it/s]"
      ],
      "application/vnd.jupyter.widget-view+json": {
       "version_major": 2,
       "version_minor": 0,
       "model_id": "f7aa9b3e886a4f3d954e452d07309c39"
      }
     },
     "metadata": {},
     "output_type": "display_data"
    },
    {
     "name": "stdout",
     "output_type": "stream",
     "text": [
      "validation Mean (R, G, B): 4.498461327058267e-05, 0.002967559555664965, 0.00377206300339498\n",
      "validation Std (R, G, B): 0.9999302619072687, 0.9961864593394519, 0.9950114915504317\n"
     ]
    },
    {
     "data": {
      "text/plain": [
       "  0%|          | 0/400 [00:00<?, ?it/s]"
      ],
      "application/vnd.jupyter.widget-view+json": {
       "version_major": 2,
       "version_minor": 0,
       "model_id": "fe1003d83c374dae9352ad6322188385"
      }
     },
     "metadata": {},
     "output_type": "display_data"
    },
    {
     "name": "stdout",
     "output_type": "stream",
     "text": [
      "validation_cropped Mean (R, G, B): 9.11178684298906e-05, 0.00016899316823231023, 0.00013630608568597925\n",
      "validation_cropped Std (R, G, B): 0.9997765731490914, 0.999723290744797, 0.9997950890554188\n"
     ]
    }
   ],
   "execution_count": 8
  },
  {
   "cell_type": "code",
   "id": "b7f15bda8b19c7a8",
   "metadata": {
    "ExecuteTime": {
     "end_time": "2024-11-05T23:47:13.114076Z",
     "start_time": "2024-11-05T23:47:10.133199Z"
    }
   },
   "source": "compute_mean_std(test_cropped_loader, 'test')",
   "outputs": [
    {
     "data": {
      "text/plain": [
       "  0%|          | 0/400 [00:00<?, ?it/s]"
      ],
      "application/vnd.jupyter.widget-view+json": {
       "version_major": 2,
       "version_minor": 0,
       "model_id": "58ee3bd434f147b292cda4fffd619519"
      }
     },
     "metadata": {},
     "output_type": "display_data"
    },
    {
     "name": "stdout",
     "output_type": "stream",
     "text": [
      "test Mean (R, G, B): 0.8418319742801653, 0.615476825913562, 0.4869731078347259\n",
      "test Std (R, G, B): 0.14670943280709617, 0.18317656249631115, 0.15898107750169369\n"
     ]
    },
    {
     "data": {
      "text/plain": [
       "{'mean': [0.8418319742801653, 0.615476825913562, 0.4869731078347259],\n",
       " 'std': [0.14670943280709617, 0.18317656249631115, 0.15898107750169369]}"
      ]
     },
     "execution_count": 17,
     "metadata": {},
     "output_type": "execute_result"
    }
   ],
   "execution_count": 17
  },
  {
   "cell_type": "code",
   "execution_count": 18,
   "id": "8a724010bbec6d10",
   "metadata": {
    "ExecuteTime": {
     "end_time": "2024-11-05T20:32:59.515472Z",
     "start_time": "2024-11-05T20:32:54.200873Z"
    }
   },
   "outputs": [
    {
     "name": "stderr",
     "output_type": "stream",
     "text": [
      "100%|██████████| 400/400 [00:03<00:00, 122.36it/s]\n"
     ]
    },
    {
     "data": {
      "image/png": "[encoded data removed]",
      "text/plain": [
       "<Figure size 600x600 with 1 Axes>"
      ]
     },
     "metadata": {},
     "output_type": "display_data"
    }
   ],
   "source": [
    "import torch\n",
    "import seaborn as sns\n",
    "import matplotlib.pyplot as plt\n",
    "from tqdm import tqdm\n",
    "\n",
    "def kde_plot(loader: torch.utils.data.DataLoader, name):\n",
    "    r_counts = {}\n",
    "    g_counts = {}\n",
    "    b_counts = {}\n",
    "    \n",
    "    for image, mask in tqdm(loader):\n",
    "        r = image[:, 0]\n",
    "        g = image[:, 1]\n",
    "        b = image[:, 2]\n",
    "        \n",
    "        # Filter out zero values\n",
    "        r = r[r != 0]\n",
    "        g = g[g != 0]\n",
    "        b = b[b != 0]\n",
    "        \n",
    "        # Count unique values for each channel\n",
    "        r_values, r_freqs = torch.unique(r, return_counts=True)\n",
    "        g_values, g_freqs = torch.unique(g, return_counts=True)\n",
    "        b_values, b_freqs = torch.unique(b, return_counts=True)\n",
    "        \n",
    "        # Update the counts dictionary for each channel\n",
    "        for val, count in zip(r_values.tolist(), r_freqs.tolist()):\n",
    "            r_counts[val] = r_counts.get(val, 0) + count\n",
    "            \n",
    "        for val, count in zip(g_values.tolist(), g_freqs.tolist()):\n",
    "            g_counts[val] = g_counts.get(val, 0) + count\n",
    "            \n",
    "        for val, count in zip(b_values.tolist(), b_freqs.tolist()):\n",
    "            b_counts[val] = b_counts.get(val, 0) + count\n",
    "\n",
    "    # Prepare data for KDE\n",
    "    r_data = []\n",
    "    g_data = []\n",
    "    b_data = []\n",
    "\n",
    "    for channel_counts, channel_data in zip([r_counts, g_counts, b_counts], [r_data, g_data, b_data]):\n",
    "        for key, val in channel_counts.items():\n",
    "            channel_data.extend([key] * (val // 20))  # Optional: Adjust for better visibility\n",
    "\n",
    "    # Create KDE plots for each channel\n",
    "    plt.figure(figsize=(6, 6))\n",
    "\n",
    "    # KDE for Red channel\n",
    "    sns.kdeplot(r_data, color='red', label='Red Channel', fill=True, alpha=0.5)\n",
    "    \n",
    "    # KDE for Green channel\n",
    "    sns.kdeplot(g_data, color='green', label='Green Channel', fill=True, alpha=0.5)\n",
    "    \n",
    "    # KDE for Blue channel\n",
    "    sns.kdeplot(b_data, color='blue', label='Blue Channel', fill=True, alpha=0.5)\n",
    "\n",
    "    plt.title(f\"KDE Plot of Color Channels: {name}\")\n",
    "    plt.xlabel(\"Pixel Values\")\n",
    "    plt.ylabel(\"Density\")\n",
    "    plt.legend()\n",
    "    plt.tight_layout()\n",
    "    #plt.savefig(f'{name}')\n",
    "    plt.show()\n",
    "\n",
    "# Usage\n",
    "#kde_plot(val_loader, 'Validation dataset')\n",
    "#kde_plot(train_dataset, 'Train dataset')\n",
    "#kde_plot(train_cropped_dataset, 'Test dataset')\n",
    "kde_plot(test_cropped, 'ff')\n"
   ]
  },
  {
   "cell_type": "code",
   "execution_count": null,
   "id": "e3876c131c040de0",
   "metadata": {
    "ExecuteTime": {
     "end_time": "2024-11-05T17:40:07.426516Z",
     "start_time": "2024-11-05T17:40:07.422889Z"
    }
   },
   "outputs": [],
   "source": []
  }
 ],
 "metadata": {
  "kernelspec": {
   "display_name": "Python 3 (ipykernel)",
   "language": "python",
   "name": "python3"
  },
  "language_info": {
   "codemirror_mode": {
    "name": "ipython",
    "version": 3
   },
   "file_extension": ".py",
   "mimetype": "text/x-python",
   "name": "python",
   "nbconvert_exporter": "python",
   "pygments_lexer": "ipython3",
   "version": "3.12.3"
  }
 },
 "nbformat": 4,
 "nbformat_minor": 5
}
